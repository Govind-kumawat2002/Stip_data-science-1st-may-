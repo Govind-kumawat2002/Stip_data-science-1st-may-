{
 "cells": [
  {
   "cell_type": "markdown",
   "id": "449d4b46",
   "metadata": {},
   "source": [
    "#### Operating System "
   ]
  },
  {
   "cell_type": "code",
   "execution_count": 2,
   "id": "6a3f5892",
   "metadata": {},
   "outputs": [
    {
     "name": "stdout",
     "output_type": "stream",
     "text": [
      "Os module\n"
     ]
    }
   ],
   "source": [
    "print(\"Os module\")  \n",
    "import os "
   ]
  },
  {
   "cell_type": "code",
   "execution_count": 3,
   "id": "4bd7c954",
   "metadata": {},
   "outputs": [
    {
     "name": "stdout",
     "output_type": "stream",
     "text": [
      "current working directory:- e:\\Desktop\\may 13\\1 may data science\\Stip_data-science-1st-may-\\os\n"
     ]
    }
   ],
   "source": [
    "file =os.getcwd() # current working directory \n",
    "print(\"current working directory:-\",file)"
   ]
  },
  {
   "cell_type": "code",
   "execution_count": 4,
   "id": "061e961f",
   "metadata": {},
   "outputs": [
    {
     "name": "stdout",
     "output_type": "stream",
     "text": [
      "total list os current directory:- ['os.ipynb']\n"
     ]
    }
   ],
   "source": [
    "file =os.listdir()\n",
    "print(\"total list os current directory:-\",file)"
   ]
  },
  {
   "cell_type": "code",
   "execution_count": null,
   "id": "489ce900",
   "metadata": {},
   "outputs": [
    {
     "name": "stdout",
     "output_type": "stream",
     "text": [
      "folder created successfully\n"
     ]
    }
   ],
   "source": [
    "os.mkdir(\"New_folder\") # creating folder\n",
    "print(\"folder created successfully\")"
   ]
  },
  {
   "cell_type": "code",
   "execution_count": 6,
   "id": "8f5a1869",
   "metadata": {},
   "outputs": [
    {
     "name": "stdout",
     "output_type": "stream",
     "text": [
      "total list os current directory:- ['New_folder', 'os.ipynb']\n"
     ]
    }
   ],
   "source": [
    "file =os.listdir()\n",
    "print(\"total list os current directory:-\",file)"
   ]
  },
  {
   "cell_type": "code",
   "execution_count": 7,
   "id": "4e6e94aa",
   "metadata": {},
   "outputs": [
    {
     "name": "stdout",
     "output_type": "stream",
     "text": [
      "folder renamed successfully\n"
     ]
    }
   ],
   "source": [
    "os.rename(\"New_folder\",\"Data_science\")\n",
    "print(\"folder renamed successfully\")"
   ]
  },
  {
   "cell_type": "code",
   "execution_count": 8,
   "id": "6d77af15",
   "metadata": {},
   "outputs": [
    {
     "name": "stdout",
     "output_type": "stream",
     "text": [
      "total list os current directory:- ['Data_science', 'os.ipynb']\n"
     ]
    }
   ],
   "source": [
    "file =os.listdir()\n",
    "print(\"total list os current directory:-\",file)"
   ]
  },
  {
   "cell_type": "code",
   "execution_count": 9,
   "id": "e0b6da2d",
   "metadata": {},
   "outputs": [
    {
     "name": "stdout",
     "output_type": "stream",
     "text": [
      "folder removed successfully\n"
     ]
    }
   ],
   "source": [
    "os.rmdir(\"Data_science\") # removing folder\n",
    "print(\"folder removed successfully\")"
   ]
  },
  {
   "cell_type": "code",
   "execution_count": 10,
   "id": "198a015e",
   "metadata": {},
   "outputs": [
    {
     "name": "stdout",
     "output_type": "stream",
     "text": [
      "total list os current directory:- ['os.ipynb']\n"
     ]
    }
   ],
   "source": [
    "file =os.listdir()\n",
    "print(\"total list os current directory:-\",file)"
   ]
  },
  {
   "cell_type": "code",
   "execution_count": null,
   "id": "2d28ba00",
   "metadata": {},
   "outputs": [],
   "source": [
    "# os.remove(\"poet.txt\") # removing file\n",
    "# print(\"file removed successfully\")"
   ]
  },
  {
   "cell_type": "code",
   "execution_count": 13,
   "id": "21600c50",
   "metadata": {},
   "outputs": [],
   "source": [
    "path = \"e:\\Desktop\\may 13\\1 may data science\\Stip_data-science-1st-may-\\os\""
   ]
  },
  {
   "cell_type": "code",
   "execution_count": 14,
   "id": "f296ca67",
   "metadata": {},
   "outputs": [
    {
     "name": "stdout",
     "output_type": "stream",
     "text": [
      "path exist:- None\n"
     ]
    }
   ],
   "source": [
    "path =os.environ.get(path)\n",
    "print(\"path exist:-\",path)"
   ]
  },
  {
   "cell_type": "code",
   "execution_count": 16,
   "id": "0b844b6e",
   "metadata": {},
   "outputs": [
    {
     "data": {
      "text/plain": [
       "1"
      ]
     },
     "execution_count": 16,
     "metadata": {},
     "output_type": "execute_result"
    }
   ],
   "source": [
    "os.system(\"e:\\Desktop\\may 13\") # system command"
   ]
  },
  {
   "cell_type": "code",
   "execution_count": 28,
   "id": "71ee0953",
   "metadata": {},
   "outputs": [
    {
     "data": {
      "text/plain": [
       "['basic.py',\n",
       " 'class.ipynb',\n",
       " 'conditional_statement.ipynb',\n",
       " 'Encapsulation.ipynb',\n",
       " 'exception.ipynb',\n",
       " 'filehandling.ipynb',\n",
       " 'function.ipynb',\n",
       " 'inheritance.ipynb',\n",
       " 'kapil.txt',\n",
       " 'looping.ipynb',\n",
       " 'poet.txt',\n",
       " 'poet2.txt',\n",
       " 'poet3.txt',\n",
       " 'poet4.txt',\n",
       " 'poet5.txt',\n",
       " 'polymorphism.ipynb']"
      ]
     },
     "execution_count": 28,
     "metadata": {},
     "output_type": "execute_result"
    }
   ],
   "source": [
    "os.listdir(r\"e:\\Desktop\\may 13\\1 may data science\\Stip_data-science-1st-may-\\python\")"
   ]
  },
  {
   "cell_type": "code",
   "execution_count": 30,
   "id": "e0c879a1",
   "metadata": {},
   "outputs": [
    {
     "data": {
      "text/plain": [
       "False"
      ]
     },
     "execution_count": 30,
     "metadata": {},
     "output_type": "execute_result"
    }
   ],
   "source": [
    "os.path.isfile(r\"e:\\Desktop\\may 13\\1 may data science\\Stip_data-science-1st-may-\\python/os.ipynb\")"
   ]
  },
  {
   "cell_type": "code",
   "execution_count": 22,
   "id": "72405785",
   "metadata": {},
   "outputs": [
    {
     "data": {
      "text/plain": [
       "True"
      ]
     },
     "execution_count": 22,
     "metadata": {},
     "output_type": "execute_result"
    }
   ],
   "source": [
    "os.path.isdir(r\"E:\\Desktop\\may 13\\1 may data science\\Stip_data-science-1st-may-\")"
   ]
  },
  {
   "cell_type": "code",
   "execution_count": 33,
   "id": "d2a9f037",
   "metadata": {},
   "outputs": [
    {
     "name": "stdout",
     "output_type": "stream",
     "text": [
      "your complete path:- e:\\Desktop\\may 13\\1 may data science\\Stip_data-science-1st-may-\\python\n",
      "your list:- ['basic.py', 'class.ipynb', 'conditional_statement.ipynb', 'Encapsulation.ipynb', 'exception.ipynb', 'filehandling.ipynb', 'function.ipynb', 'inheritance.ipynb', 'kapil.txt', 'looping.ipynb', 'poet.txt', 'poet2.txt', 'poet3.txt', 'poet4.txt', 'poet5.txt', 'polymorphism.ipynb']\n"
     ]
    }
   ],
   "source": [
    "path1 = r\"e:\\Desktop\\may 13\\1 may data science\"\n",
    "path2 = r\"Stip_data-science-1st-may-\\python\"\n",
    "\n",
    "\n",
    "\n",
    "complete_path=os.path.join(path1,path2)\n",
    "print(\"your complete path:-\",complete_path)\n",
    "print(\"your list:-\",os.listdir(complete_path))"
   ]
  },
  {
   "cell_type": "code",
   "execution_count": 35,
   "id": "3d518aee",
   "metadata": {},
   "outputs": [
    {
     "name": "stdout",
     "output_type": "stream",
     "text": [
      "size of file (in bytes):- 9945\n"
     ]
    }
   ],
   "source": [
    "size = os.path.getsize(r\"e:\\Desktop\\may 13\\1 may data science\\Stip_data-science-1st-may-\\os/os.ipynb\")\n",
    "print(\"size of file (in bytes):-\",size)"
   ]
  },
  {
   "cell_type": "code",
   "execution_count": 36,
   "id": "3a058f0f",
   "metadata": {},
   "outputs": [
    {
     "name": "stdout",
     "output_type": "stream",
     "text": [
      "before dir  e:\\Desktop\\may 13\\1 may data science\\Stip_data-science-1st-may-\\os\n",
      "after dir  e:\\Desktop\\may 13\\1 may data science\\Stip_data-science-1st-may-\\python\n"
     ]
    }
   ],
   "source": [
    "print(\"before dir \",os.getcwd())\n",
    "os.chdir(r\"e:\\Desktop\\may 13\\1 may data science\\Stip_data-science-1st-may-\\python\")\n",
    "print(\"after dir \",os.getcwd())"
   ]
  },
  {
   "cell_type": "code",
   "execution_count": null,
   "id": "6d58f0bf",
   "metadata": {},
   "outputs": [],
   "source": []
  }
 ],
 "metadata": {
  "kernelspec": {
   "display_name": "Python 3",
   "language": "python",
   "name": "python3"
  },
  "language_info": {
   "codemirror_mode": {
    "name": "ipython",
    "version": 3
   },
   "file_extension": ".py",
   "mimetype": "text/x-python",
   "name": "python",
   "nbconvert_exporter": "python",
   "pygments_lexer": "ipython3",
   "version": "3.11.5"
  }
 },
 "nbformat": 4,
 "nbformat_minor": 5
}
