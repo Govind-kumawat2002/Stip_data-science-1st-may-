{
 "cells": [
  {
   "cell_type": "markdown",
   "id": "38fb40c9",
   "metadata": {},
   "source": [
    "### class "
   ]
  },
  {
   "cell_type": "code",
   "execution_count": 1,
   "id": "42d6e0ed",
   "metadata": {},
   "outputs": [],
   "source": [
    "class Person:\n",
    "    name = \"Ritik\"\n",
    "    age = 20\n",
    "    \n"
   ]
  },
  {
   "cell_type": "code",
   "execution_count": 2,
   "id": "a577ec71",
   "metadata": {},
   "outputs": [],
   "source": [
    "obj= Person()"
   ]
  },
  {
   "cell_type": "code",
   "execution_count": 4,
   "id": "d1209b23",
   "metadata": {},
   "outputs": [
    {
     "name": "stdout",
     "output_type": "stream",
     "text": [
      "Ritik\n"
     ]
    }
   ],
   "source": [
    "print(obj.name )"
   ]
  },
  {
   "cell_type": "code",
   "execution_count": 5,
   "id": "0341412b",
   "metadata": {},
   "outputs": [
    {
     "name": "stdout",
     "output_type": "stream",
     "text": [
      "20\n"
     ]
    }
   ],
   "source": [
    "print(obj.age)"
   ]
  },
  {
   "cell_type": "code",
   "execution_count": null,
   "id": "3aaefd53",
   "metadata": {},
   "outputs": [],
   "source": []
  }
 ],
 "metadata": {
  "kernelspec": {
   "display_name": "Python 3",
   "language": "python",
   "name": "python3"
  },
  "language_info": {
   "codemirror_mode": {
    "name": "ipython",
    "version": 3
   },
   "file_extension": ".py",
   "mimetype": "text/x-python",
   "name": "python",
   "nbconvert_exporter": "python",
   "pygments_lexer": "ipython3",
   "version": "3.11.5"
  }
 },
 "nbformat": 4,
 "nbformat_minor": 5
}
