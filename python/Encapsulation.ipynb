{
 "cells": [
  {
   "cell_type": "markdown",
   "id": "f130aa30",
   "metadata": {},
   "source": [
    "#### Encapsulation "
   ]
  },
  {
   "cell_type": "code",
   "execution_count": 14,
   "id": "2338c76a",
   "metadata": {},
   "outputs": [
    {
     "name": "stdout",
     "output_type": "stream",
     "text": [
      "private variable :- ritik\n"
     ]
    }
   ],
   "source": [
    "class Bank:\n",
    "    def __init__(self):\n",
    "        ## private  variable \n",
    "        self.__name=\"ritik\"\n",
    "        self.__age=20\n",
    "        self.__address=\"jaipur\"\n",
    "        \n",
    "        ## public variable\n",
    "        self.name=\"kamal\"\n",
    "        self.age=22\n",
    "        self.address=\"jaipur pratap nagar\"\n",
    "\n",
    "        ### protected variable\n",
    "        self._name=\"kaip\"\n",
    "        self._age=25\n",
    "        self._address=\"alwar road\"\n",
    "\n",
    "        \n",
    "     \n",
    "\n",
    "class Customer(Bank):\n",
    "    pass \n",
    "\n",
    "c1=Customer()\n",
    "# print(\"public variable  :-\",c1.name, c1.age, c1.address)\n",
    "# print(\"protected variable :-\",c1._name)\n",
    "print(\"private variable :-\",c1._Bank__name )  #### _class name variable"
   ]
  }
 ],
 "metadata": {
  "kernelspec": {
   "display_name": "Python 3",
   "language": "python",
   "name": "python3"
  },
  "language_info": {
   "codemirror_mode": {
    "name": "ipython",
    "version": 3
   },
   "file_extension": ".py",
   "mimetype": "text/x-python",
   "name": "python",
   "nbconvert_exporter": "python",
   "pygments_lexer": "ipython3",
   "version": "3.11.5"
  }
 },
 "nbformat": 4,
 "nbformat_minor": 5
}
