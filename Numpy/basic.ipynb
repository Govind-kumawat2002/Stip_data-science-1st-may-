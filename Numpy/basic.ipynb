{
 "cells": [
  {
   "cell_type": "code",
   "execution_count": 1,
   "id": "91bcc7ae",
   "metadata": {},
   "outputs": [
    {
     "name": "stdout",
     "output_type": "stream",
     "text": [
      "Requirement already satisfied: numpy in c:\\users\\kumaw\\appdata\\local\\programs\\python\\python313\\lib\\site-packages (2.2.2)"
     ]
    },
    {
     "name": "stderr",
     "output_type": "stream",
     "text": [
      "DEPRECATION: Loading egg at c:\\users\\kumaw\\appdata\\local\\programs\\python\\python313\\lib\\site-packages\\healthcare-0.0.2-py3.13.egg is deprecated. pip 25.1 will enforce this behaviour change. A possible replacement is to use pip for package installation. Discussion can be found at https://github.com/pypa/pip/issues/12330\n",
      "\n",
      "[notice] A new release of pip is available: 25.0.1 -> 25.1.1\n",
      "[notice] To update, run: C:\\Users\\kumaw\\AppData\\Local\\Programs\\Python\\Python313\\python.exe -m pip install --upgrade pip\n"
     ]
    },
    {
     "name": "stdout",
     "output_type": "stream",
     "text": [
      "\n"
     ]
    }
   ],
   "source": [
    "!pip install numpy"
   ]
  },
  {
   "cell_type": "code",
   "execution_count": null,
   "id": "31bfe8a3",
   "metadata": {},
   "outputs": [
    {
     "name": "stdout",
     "output_type": "stream",
     "text": [
      "successfully installed\n"
     ]
    }
   ],
   "source": [
    "import numpy as np\n",
    "print(\"successfully installed\")"
   ]
  },
  {
   "cell_type": "code",
   "execution_count": 3,
   "id": "d599a5e7",
   "metadata": {},
   "outputs": [
    {
     "name": "stdout",
     "output_type": "stream",
     "text": [
      "numpy version:- 1.26.4\n"
     ]
    }
   ],
   "source": [
    "print(\"numpy version:-\",np.__version__) \n"
   ]
  },
  {
   "cell_type": "code",
   "execution_count": null,
   "id": "1c0f4ead",
   "metadata": {},
   "outputs": [],
   "source": [
    "# Array and list  \n",
    "\n",
    "# Array similar data store krta hai hain\n",
    "# array >>>>>>>[1,2,3,4,5,6,7,8,9] \n",
    "\n",
    "# list >>>>>>[1,2,3,4,5,6,7,8,9, \"ritik\", 2.5, True, [1,2,3]]"
   ]
  },
  {
   "cell_type": "code",
   "execution_count": null,
   "id": "0bcbf1f6",
   "metadata": {},
   "outputs": [],
   "source": []
  },
  {
   "cell_type": "markdown",
   "id": "acd611d3",
   "metadata": {},
   "source": [
    "##### list convert into array "
   ]
  },
  {
   "cell_type": "code",
   "execution_count": 8,
   "id": "7544363f",
   "metadata": {},
   "outputs": [],
   "source": [
    "# lst = [1,2,3,4,5]\n",
    "# print(\"type of list:-\",type(lst))\n",
    "# arr =np.array(lst)\n",
    "# print(arr)\n",
    "# print(\"type of array:-\",type(arr))"
   ]
  },
  {
   "cell_type": "code",
   "execution_count": 9,
   "id": "42e9ecb5",
   "metadata": {},
   "outputs": [],
   "source": [
    "arrr =np.array([1,2,3,4,5])"
   ]
  },
  {
   "cell_type": "code",
   "execution_count": 10,
   "id": "9c9886a6",
   "metadata": {},
   "outputs": [
    {
     "name": "stdout",
     "output_type": "stream",
     "text": [
      "[1 2 3 4 5]\n",
      "type of array:- <class 'numpy.ndarray'>\n"
     ]
    }
   ],
   "source": [
    "print(arrr)\n",
    "print(\"type of array:-\",type(arrr))"
   ]
  },
  {
   "cell_type": "code",
   "execution_count": null,
   "id": "1f342b84",
   "metadata": {},
   "outputs": [],
   "source": [
    "lst = list(range(1, 20)) # list function is used to create list and range function is used to create range"
   ]
  },
  {
   "cell_type": "code",
   "execution_count": 14,
   "id": "7dc08ef6",
   "metadata": {},
   "outputs": [
    {
     "data": {
      "text/plain": [
       "array([ 1,  2,  3,  4,  5,  6,  7,  8,  9, 10, 11, 12, 13, 14, 15, 16, 17,\n",
       "       18, 19])"
      ]
     },
     "execution_count": 14,
     "metadata": {},
     "output_type": "execute_result"
    }
   ],
   "source": [
    "type(lst)\n",
    "arr =np.array(lst)\n",
    "arr "
   ]
  },
  {
   "cell_type": "code",
   "execution_count": null,
   "id": "4a8c6431",
   "metadata": {},
   "outputs": [
    {
     "data": {
      "text/plain": [
       "numpy.ndarray"
      ]
     },
     "execution_count": 17,
     "metadata": {},
     "output_type": "execute_result"
    }
   ],
   "source": [
    "arr =np.arange(1,20) #arange function is used to create array \n",
    "type(arr)"
   ]
  },
  {
   "cell_type": "code",
   "execution_count": 18,
   "id": "cc936e29",
   "metadata": {},
   "outputs": [
    {
     "data": {
      "text/plain": [
       "array([ 1,  2,  3,  4,  5,  6,  7,  8,  9, 10, 11, 12, 13, 14, 15, 16, 17,\n",
       "       18, 19])"
      ]
     },
     "execution_count": 18,
     "metadata": {},
     "output_type": "execute_result"
    }
   ],
   "source": [
    "arr"
   ]
  },
  {
   "cell_type": "code",
   "execution_count": 20,
   "id": "7d179d4f",
   "metadata": {},
   "outputs": [
    {
     "data": {
      "text/plain": [
       "array([0., 0., 0., 0., 0.])"
      ]
     },
     "execution_count": 20,
     "metadata": {},
     "output_type": "execute_result"
    }
   ],
   "source": [
    "arr =np.zeros(5)\n",
    "arr"
   ]
  },
  {
   "cell_type": "code",
   "execution_count": null,
   "id": "269ef0ea",
   "metadata": {},
   "outputs": [
    {
     "data": {
      "text/plain": [
       "array([[0., 0., 0., 0., 0., 0., 0., 0., 0., 0.],\n",
       "       [0., 0., 0., 0., 0., 0., 0., 0., 0., 0.],\n",
       "       [0., 0., 0., 0., 0., 0., 0., 0., 0., 0.],\n",
       "       [0., 0., 0., 0., 0., 0., 0., 0., 0., 0.],\n",
       "       [0., 0., 0., 0., 0., 0., 0., 0., 0., 0.]])"
      ]
     },
     "execution_count": 21,
     "metadata": {},
     "output_type": "execute_result"
    }
   ],
   "source": [
    "arr =np.zeros((5,10))  # 5 rows and 10 columns and zero is used to create array\n",
    "arr"
   ]
  },
  {
   "cell_type": "code",
   "execution_count": null,
   "id": "1ea13413",
   "metadata": {},
   "outputs": [
    {
     "data": {
      "text/plain": [
       "array([[1., 1., 1., 1., 1., 1., 1., 1., 1., 1.],\n",
       "       [1., 1., 1., 1., 1., 1., 1., 1., 1., 1.],\n",
       "       [1., 1., 1., 1., 1., 1., 1., 1., 1., 1.],\n",
       "       [1., 1., 1., 1., 1., 1., 1., 1., 1., 1.],\n",
       "       [1., 1., 1., 1., 1., 1., 1., 1., 1., 1.]])"
      ]
     },
     "execution_count": 24,
     "metadata": {},
     "output_type": "execute_result"
    }
   ],
   "source": [
    "arr=np.ones((5,10)) # one is used to create array\n",
    "arr"
   ]
  },
  {
   "cell_type": "code",
   "execution_count": 26,
   "id": "7c255484",
   "metadata": {},
   "outputs": [
    {
     "data": {
      "text/plain": [
       "array([ 1.  ,  3.25,  5.5 ,  7.75, 10.  ])"
      ]
     },
     "execution_count": 26,
     "metadata": {},
     "output_type": "execute_result"
    }
   ],
   "source": [
    "np.linspace(1,10,5) # linspace function is used to create array"
   ]
  },
  {
   "cell_type": "markdown",
   "id": "fd965ea8",
   "metadata": {},
   "source": [
    "##### 1D array convert into 2D"
   ]
  },
  {
   "cell_type": "code",
   "execution_count": 29,
   "id": "0a4b3b61",
   "metadata": {},
   "outputs": [],
   "source": [
    "arr=np.arange(0,30) # arange function is used to create array"
   ]
  },
  {
   "cell_type": "code",
   "execution_count": 32,
   "id": "07228447",
   "metadata": {},
   "outputs": [
    {
     "data": {
      "text/plain": [
       "array([[ 0,  1,  2,  3,  4,  5],\n",
       "       [ 6,  7,  8,  9, 10, 11],\n",
       "       [12, 13, 14, 15, 16, 17],\n",
       "       [18, 19, 20, 21, 22, 23],\n",
       "       [24, 25, 26, 27, 28, 29]])"
      ]
     },
     "execution_count": 32,
     "metadata": {},
     "output_type": "execute_result"
    }
   ],
   "source": [
    "arr.reshape(5,6) # reshape function is used to create array   "
   ]
  },
  {
   "cell_type": "code",
   "execution_count": 33,
   "id": "cbb7ea23",
   "metadata": {},
   "outputs": [
    {
     "data": {
      "text/plain": [
       "array([[ 0,  1,  2],\n",
       "       [ 3,  4,  5],\n",
       "       [ 6,  7,  8],\n",
       "       [ 9, 10, 11],\n",
       "       [12, 13, 14],\n",
       "       [15, 16, 17],\n",
       "       [18, 19, 20],\n",
       "       [21, 22, 23],\n",
       "       [24, 25, 26],\n",
       "       [27, 28, 29]])"
      ]
     },
     "execution_count": 33,
     "metadata": {},
     "output_type": "execute_result"
    }
   ],
   "source": [
    "arr.reshape(10,3)"
   ]
  },
  {
   "cell_type": "code",
   "execution_count": 35,
   "id": "2c1dec95",
   "metadata": {},
   "outputs": [
    {
     "data": {
      "text/plain": [
       "array([4, 3, 2, 2, 4, 2, 3, 3, 2])"
      ]
     },
     "execution_count": 35,
     "metadata": {},
     "output_type": "execute_result"
    }
   ],
   "source": [
    "arr=np.random.randint(1,5,9) # random function is used to create array\n",
    "arr"
   ]
  },
  {
   "cell_type": "code",
   "execution_count": 36,
   "id": "0e00e15c",
   "metadata": {},
   "outputs": [
    {
     "data": {
      "text/plain": [
       "array([[3, 4],\n",
       "       [3, 4],\n",
       "       [2, 2],\n",
       "       [3, 1],\n",
       "       [4, 1]])"
      ]
     },
     "execution_count": 36,
     "metadata": {},
     "output_type": "execute_result"
    }
   ],
   "source": [
    "arr=np.random.randint(1,5,(5,2)) # random function is used to create array\n",
    "arr"
   ]
  },
  {
   "cell_type": "code",
   "execution_count": 38,
   "id": "b37a8dcf",
   "metadata": {},
   "outputs": [
    {
     "data": {
      "text/plain": [
       "array([0.3554114 , 0.19134654, 0.28425397, 0.00663987, 0.67280403,\n",
       "       0.76326652, 0.29542287, 0.58081712, 0.40536715, 0.95710556])"
      ]
     },
     "execution_count": 38,
     "metadata": {},
     "output_type": "execute_result"
    }
   ],
   "source": [
    "arr=np.random.random(10) # seed function is used to create array\n",
    "arr"
   ]
  },
  {
   "cell_type": "code",
   "execution_count": 39,
   "id": "b1075076",
   "metadata": {},
   "outputs": [
    {
     "data": {
      "text/plain": [
       "array([[0.63226299, 0.40907501, 0.43748353, 0.98589678, 0.07252596,\n",
       "        0.61977802, 0.78911032, 0.41157577, 0.39848119, 0.23566705],\n",
       "       [0.32375108, 0.87570257, 0.62521455, 0.09720308, 0.77437727,\n",
       "        0.87547786, 0.30003809, 0.5798339 , 0.17381009, 0.67243072],\n",
       "       [0.14615453, 0.03861014, 0.19744263, 0.53688885, 0.92137217,\n",
       "        0.1619965 , 0.11979893, 0.45490818, 0.26564049, 0.54343336],\n",
       "       [0.77073635, 0.94753558, 0.65835209, 0.21208488, 0.43891062,\n",
       "        0.37216166, 0.82942148, 0.45406385, 0.60982649, 0.00675663],\n",
       "       [0.20767059, 0.65109044, 0.15171269, 0.71648986, 0.03183853,\n",
       "        0.18808061, 0.41720046, 0.2120465 , 0.26677878, 0.72278982]])"
      ]
     },
     "execution_count": 39,
     "metadata": {},
     "output_type": "execute_result"
    }
   ],
   "source": [
    "arr=np.random.random((5,10)) # seed function is used to create array\n",
    "arr"
   ]
  },
  {
   "cell_type": "code",
   "execution_count": 40,
   "id": "61b137fc",
   "metadata": {},
   "outputs": [],
   "source": [
    "\n",
    "arr =np.arange(60).reshape(12,5) # seed function is used to create array"
   ]
  },
  {
   "cell_type": "code",
   "execution_count": 47,
   "id": "c16ffa46",
   "metadata": {},
   "outputs": [
    {
     "name": "stdout",
     "output_type": "stream",
     "text": [
      "array shape :- (12, 5)\n",
      "array size:- 60\n",
      "array data type:- int32\n",
      "array dimension:- 2\n"
     ]
    }
   ],
   "source": [
    "print(\"array shape :-\",arr.shape)\n",
    "print(\"array size:-\",arr.size)\n",
    "print(\"array data type:-\",arr.dtype)\n",
    "print(\"array dimension:-\",arr.ndim)"
   ]
  },
  {
   "cell_type": "code",
   "execution_count": 49,
   "id": "dcc449ae",
   "metadata": {},
   "outputs": [
    {
     "data": {
      "text/plain": [
       "array([ 0,  1,  2,  3,  4,  5,  6,  7,  8,  9, 10, 11, 12, 13, 14, 15, 16,\n",
       "       17, 18, 19, 20, 21, 22, 23, 24, 25, 26, 27, 28, 29, 30, 31, 32, 33,\n",
       "       34, 35, 36, 37, 38, 39, 40, 41, 42, 43, 44, 45, 46, 47, 48, 49, 50,\n",
       "       51, 52, 53, 54, 55, 56, 57, 58, 59])"
      ]
     },
     "execution_count": 49,
     "metadata": {},
     "output_type": "execute_result"
    }
   ],
   "source": [
    "arr.flatten() ##  2d array to 1d array"
   ]
  },
  {
   "cell_type": "code",
   "execution_count": 50,
   "id": "f58f443a",
   "metadata": {},
   "outputs": [
    {
     "data": {
      "text/plain": [
       "array([ 0,  1,  2,  3,  4,  5,  6,  7,  8,  9, 10, 11, 12, 13, 14, 15, 16,\n",
       "       17, 18, 19, 20, 21, 22, 23, 24, 25, 26, 27, 28, 29, 30, 31, 32, 33,\n",
       "       34, 35, 36, 37, 38, 39, 40, 41, 42, 43, 44, 45, 46, 47, 48, 49, 50,\n",
       "       51, 52, 53, 54, 55, 56, 57, 58, 59])"
      ]
     },
     "execution_count": 50,
     "metadata": {},
     "output_type": "execute_result"
    }
   ],
   "source": [
    "arr.ravel() # 2d array to 1d array"
   ]
  },
  {
   "cell_type": "code",
   "execution_count": 55,
   "id": "efa043be",
   "metadata": {},
   "outputs": [
    {
     "data": {
      "text/plain": [
       "(12, 5)"
      ]
     },
     "execution_count": 55,
     "metadata": {},
     "output_type": "execute_result"
    }
   ],
   "source": [
    "arr.shape"
   ]
  },
  {
   "cell_type": "code",
   "execution_count": 58,
   "id": "5540744f",
   "metadata": {},
   "outputs": [
    {
     "data": {
      "text/plain": [
       "(5, 12)"
      ]
     },
     "execution_count": 58,
     "metadata": {},
     "output_type": "execute_result"
    }
   ],
   "source": [
    "arr.T.shape"
   ]
  },
  {
   "cell_type": "code",
   "execution_count": 69,
   "id": "2354e587",
   "metadata": {},
   "outputs": [
    {
     "data": {
      "text/plain": [
       "0"
      ]
     },
     "execution_count": 69,
     "metadata": {},
     "output_type": "execute_result"
    }
   ],
   "source": [
    "# 1D \n",
    "arr =np.arange(30)\n",
    "arr[0]"
   ]
  },
  {
   "cell_type": "code",
   "execution_count": 70,
   "id": "eb2aa30b",
   "metadata": {},
   "outputs": [
    {
     "data": {
      "text/plain": [
       "array([0, 1, 2, 3, 4, 5, 6, 7, 8, 9])"
      ]
     },
     "execution_count": 70,
     "metadata": {},
     "output_type": "execute_result"
    }
   ],
   "source": [
    "# 1D \n",
    "arr =np.arange(30)\n",
    "arr[0:10]"
   ]
  },
  {
   "cell_type": "code",
   "execution_count": 71,
   "id": "33b36765",
   "metadata": {},
   "outputs": [
    {
     "data": {
      "text/plain": [
       "array([100,   1,   2,   3,   4,   5,   6,   7,   8,   9,  10,  11,  12,\n",
       "        13,  14,  15,  16,  17,  18,  19,  20,  21,  22,  23,  24,  25,\n",
       "        26,  27,  28,  29])"
      ]
     },
     "execution_count": 71,
     "metadata": {},
     "output_type": "execute_result"
    }
   ],
   "source": [
    "arr =np.arange(30)\n",
    "arr[0]=100\n",
    "arr"
   ]
  },
  {
   "cell_type": "code",
   "execution_count": 76,
   "id": "6ddbd2a3",
   "metadata": {},
   "outputs": [
    {
     "name": "stdout",
     "output_type": "stream",
     "text": [
      "[[ 0  1  2  3  4]\n",
      " [ 5  6  7  8  9]\n",
      " [10 11 12 13 14]\n",
      " [15 16 17 18 19]\n",
      " [20 21 22 23 24]\n",
      " [25 26 27 28 29]\n",
      " [30 31 32 33 34]\n",
      " [35 36 37 38 39]\n",
      " [40 41 42 43 44]\n",
      " [45 46 47 48 49]\n",
      " [50 51 52 53 54]\n",
      " [55 56 57 58 59]]\n"
     ]
    },
    {
     "data": {
      "text/plain": [
       "array([5, 6, 7, 8, 9])"
      ]
     },
     "execution_count": 76,
     "metadata": {},
     "output_type": "execute_result"
    }
   ],
   "source": [
    "# 2 D \n",
    "arr =np.arange(60).reshape(12,5)\n",
    "print(arr)\n",
    "arr[1]"
   ]
  },
  {
   "cell_type": "code",
   "execution_count": 77,
   "id": "695a9b98",
   "metadata": {},
   "outputs": [
    {
     "name": "stdout",
     "output_type": "stream",
     "text": [
      "[[ 0  1  2  3  4]\n",
      " [ 5  6  7  8  9]\n",
      " [10 11 12 13 14]\n",
      " [15 16 17 18 19]\n",
      " [20 21 22 23 24]\n",
      " [25 26 27 28 29]\n",
      " [30 31 32 33 34]\n",
      " [35 36 37 38 39]\n",
      " [40 41 42 43 44]\n",
      " [45 46 47 48 49]\n",
      " [50 51 52 53 54]\n",
      " [55 56 57 58 59]]\n"
     ]
    },
    {
     "data": {
      "text/plain": [
       "6"
      ]
     },
     "execution_count": 77,
     "metadata": {},
     "output_type": "execute_result"
    }
   ],
   "source": [
    "arr =np.arange(60).reshape(12,5)\n",
    "print(arr)\n",
    "arr[1,1]"
   ]
  },
  {
   "cell_type": "code",
   "execution_count": 79,
   "id": "bd52b989",
   "metadata": {},
   "outputs": [
    {
     "data": {
      "text/plain": [
       "array([8, 9])"
      ]
     },
     "execution_count": 79,
     "metadata": {},
     "output_type": "execute_result"
    }
   ],
   "source": [
    "arr[1,3:5]"
   ]
  },
  {
   "cell_type": "code",
   "execution_count": null,
   "id": "795b559b",
   "metadata": {},
   "outputs": [
    {
     "data": {
      "text/plain": [
       "array([[ 1],\n",
       "       [ 6],\n",
       "       [11],\n",
       "       [16],\n",
       "       [21]])"
      ]
     },
     "execution_count": 78,
     "metadata": {},
     "output_type": "execute_result"
    }
   ],
   "source": [
    "arr[0:5,1:2]   # row (o:5 means 0 to 4), column "
   ]
  },
  {
   "cell_type": "code",
   "execution_count": 82,
   "id": "3ed58d72",
   "metadata": {},
   "outputs": [
    {
     "data": {
      "text/plain": [
       "array([[  0,   1,   2,   3,   4],\n",
       "       [  5,   6,   7,   8,   9],\n",
       "       [ 10,  11,  12,  13,  14],\n",
       "       [ 15,  16,  17,  18,  19],\n",
       "       [ 20,  21,  22,  23,  24],\n",
       "       [ 25,  26,  27,  28,  29],\n",
       "       [ 30,  31,  32,  33,  34],\n",
       "       [ 35,  36,  37,  38, 100],\n",
       "       [ 40,  41,  42,  43,  44],\n",
       "       [ 45,  46,  47,  48,  49],\n",
       "       [ 50,  51,  52,  53,  54],\n",
       "       [ 55,  56,  57,  58,  59]])"
      ]
     },
     "execution_count": 82,
     "metadata": {},
     "output_type": "execute_result"
    }
   ],
   "source": [
    "arr[7:8,4][0]=100\n",
    "arr"
   ]
  },
  {
   "cell_type": "code",
   "execution_count": 83,
   "id": "aaa02931",
   "metadata": {},
   "outputs": [
    {
     "data": {
      "text/plain": [
       "59"
      ]
     },
     "execution_count": 83,
     "metadata": {},
     "output_type": "execute_result"
    }
   ],
   "source": [
    "arr[11,4]"
   ]
  },
  {
   "cell_type": "code",
   "execution_count": 84,
   "id": "f5db726b",
   "metadata": {},
   "outputs": [
    {
     "data": {
      "text/plain": [
       "59"
      ]
     },
     "execution_count": 84,
     "metadata": {},
     "output_type": "execute_result"
    }
   ],
   "source": [
    "arr[-1,-1]"
   ]
  },
  {
   "cell_type": "code",
   "execution_count": 85,
   "id": "9105897b",
   "metadata": {},
   "outputs": [
    {
     "data": {
      "text/plain": [
       "59"
      ]
     },
     "execution_count": 85,
     "metadata": {},
     "output_type": "execute_result"
    }
   ],
   "source": [
    "arr[-1][-1]"
   ]
  },
  {
   "cell_type": "code",
   "execution_count": 86,
   "id": "edccaccc",
   "metadata": {},
   "outputs": [
    {
     "data": {
      "text/plain": [
       "59"
      ]
     },
     "execution_count": 86,
     "metadata": {},
     "output_type": "execute_result"
    }
   ],
   "source": [
    "arr[11][-1]"
   ]
  },
  {
   "cell_type": "code",
   "execution_count": 87,
   "id": "e059f3ba",
   "metadata": {},
   "outputs": [],
   "source": [
    "# 3d array"
   ]
  },
  {
   "cell_type": "code",
   "execution_count": null,
   "id": "64c5db35",
   "metadata": {},
   "outputs": [
    {
     "data": {
      "text/plain": [
       "(3, (5, 15, 3), 225, dtype('int32'))"
      ]
     },
     "execution_count": 90,
     "metadata": {},
     "output_type": "execute_result"
    }
   ],
   "source": [
    "arr =np.array(np.arange(225).reshape(5,15,3))\n",
    "arr.ndim, arr.shape, arr.size, arr.dtype"
   ]
  },
  {
   "cell_type": "code",
   "execution_count": 92,
   "id": "3562c4a9",
   "metadata": {},
   "outputs": [
    {
     "data": {
      "text/plain": [
       "array([[ 0,  1,  2],\n",
       "       [ 3,  4,  5],\n",
       "       [ 6,  7,  8],\n",
       "       [ 9, 10, 11],\n",
       "       [12, 13, 14],\n",
       "       [15, 16, 17],\n",
       "       [18, 19, 20],\n",
       "       [21, 22, 23],\n",
       "       [24, 25, 26],\n",
       "       [27, 28, 29],\n",
       "       [30, 31, 32],\n",
       "       [33, 34, 35],\n",
       "       [36, 37, 38],\n",
       "       [39, 40, 41],\n",
       "       [42, 43, 44]])"
      ]
     },
     "execution_count": 92,
     "metadata": {},
     "output_type": "execute_result"
    }
   ],
   "source": [
    "arr[0]"
   ]
  },
  {
   "cell_type": "code",
   "execution_count": 91,
   "id": "b167900e",
   "metadata": {},
   "outputs": [
    {
     "data": {
      "text/plain": [
       "array([[ 6,  7,  8],\n",
       "       [ 9, 10, 11],\n",
       "       [12, 13, 14],\n",
       "       [15, 16, 17],\n",
       "       [18, 19, 20],\n",
       "       [21, 22, 23],\n",
       "       [24, 25, 26],\n",
       "       [27, 28, 29],\n",
       "       [30, 31, 32],\n",
       "       [33, 34, 35],\n",
       "       [36, 37, 38],\n",
       "       [39, 40, 41],\n",
       "       [42, 43, 44]])"
      ]
     },
     "execution_count": 91,
     "metadata": {},
     "output_type": "execute_result"
    }
   ],
   "source": [
    "arr[0][2:]"
   ]
  },
  {
   "cell_type": "code",
   "execution_count": 93,
   "id": "61f03865",
   "metadata": {},
   "outputs": [
    {
     "data": {
      "text/plain": [
       "array([[  0,   1,   2],\n",
       "       [ 45,  46,  47],\n",
       "       [ 90,  91,  92],\n",
       "       [135, 136, 137],\n",
       "       [180, 181, 182]])"
      ]
     },
     "execution_count": 93,
     "metadata": {},
     "output_type": "execute_result"
    }
   ],
   "source": [
    "arr[:,0,:]"
   ]
  },
  {
   "cell_type": "code",
   "execution_count": 94,
   "id": "9fbd1264",
   "metadata": {},
   "outputs": [
    {
     "data": {
      "text/plain": [
       "array([[[  0]],\n",
       "\n",
       "       [[ 45]],\n",
       "\n",
       "       [[ 90]],\n",
       "\n",
       "       [[135]],\n",
       "\n",
       "       [[180]]])"
      ]
     },
     "execution_count": 94,
     "metadata": {},
     "output_type": "execute_result"
    }
   ],
   "source": [
    "arr[:,0:1,0:1]"
   ]
  },
  {
   "cell_type": "code",
   "execution_count": 99,
   "id": "0248d17b",
   "metadata": {},
   "outputs": [
    {
     "data": {
      "text/plain": [
       "array([[ 90,  91,  92],\n",
       "       [ 93,  94,  95],\n",
       "       [ 96,  97,  98],\n",
       "       [ 99, 200, 101],\n",
       "       [102, 103, 104],\n",
       "       [105, 106, 107],\n",
       "       [108, 109, 110],\n",
       "       [111, 112, 113],\n",
       "       [114, 115, 116],\n",
       "       [117, 118, 119],\n",
       "       [120, 121, 122],\n",
       "       [123, 124, 125],\n",
       "       [126, 127, 128],\n",
       "       [129, 130, 131],\n",
       "       [132, 133, 134]])"
      ]
     },
     "execution_count": 99,
     "metadata": {},
     "output_type": "execute_result"
    }
   ],
   "source": [
    "arr[2][3][1]=200\n",
    "arr[2]"
   ]
  },
  {
   "cell_type": "code",
   "execution_count": 103,
   "id": "f6883e44",
   "metadata": {},
   "outputs": [],
   "source": [
    "arr =np.array([3,2,1,5,4])"
   ]
  },
  {
   "cell_type": "code",
   "execution_count": 104,
   "id": "04f22b8d",
   "metadata": {},
   "outputs": [
    {
     "data": {
      "text/plain": [
       "array([1, 2, 3, 4, 5])"
      ]
     },
     "execution_count": 104,
     "metadata": {},
     "output_type": "execute_result"
    }
   ],
   "source": [
    "arr.sort()\n",
    "arr"
   ]
  },
  {
   "cell_type": "code",
   "execution_count": null,
   "id": "7dad5aea",
   "metadata": {},
   "outputs": [
    {
     "data": {
      "text/plain": [
       "array([3, 4, 5, 6, 7])"
      ]
     },
     "execution_count": 105,
     "metadata": {},
     "output_type": "execute_result"
    }
   ],
   "source": [
    "arr+2"
   ]
  },
  {
   "cell_type": "code",
   "execution_count": 106,
   "id": "fd9bdbd0",
   "metadata": {},
   "outputs": [
    {
     "data": {
      "text/plain": [
       "array([ 2,  4,  6,  8, 10])"
      ]
     },
     "execution_count": 106,
     "metadata": {},
     "output_type": "execute_result"
    }
   ],
   "source": [
    "arr*2"
   ]
  },
  {
   "cell_type": "code",
   "execution_count": 107,
   "id": "d05e5c04",
   "metadata": {},
   "outputs": [
    {
     "data": {
      "text/plain": [
       "array([0, 1, 2, 3, 4])"
      ]
     },
     "execution_count": 107,
     "metadata": {},
     "output_type": "execute_result"
    }
   ],
   "source": [
    "arr-1"
   ]
  },
  {
   "cell_type": "code",
   "execution_count": 108,
   "id": "3f2d1aca",
   "metadata": {},
   "outputs": [
    {
     "data": {
      "text/plain": [
       "array([0.5, 1. , 1.5, 2. , 2.5])"
      ]
     },
     "execution_count": 108,
     "metadata": {},
     "output_type": "execute_result"
    }
   ],
   "source": [
    "arr/2"
   ]
  },
  {
   "cell_type": "code",
   "execution_count": 109,
   "id": "7e28194f",
   "metadata": {},
   "outputs": [
    {
     "data": {
      "text/plain": [
       "array([ 6,  4,  2, 10,  8])"
      ]
     },
     "execution_count": 109,
     "metadata": {},
     "output_type": "execute_result"
    }
   ],
   "source": [
    "arr =np.array([3,2,1,5,4])\n",
    "arr1 =np.array([3,2,1,5,4])\n",
    "arr+arr1"
   ]
  },
  {
   "cell_type": "code",
   "execution_count": 1,
   "id": "c2f24399",
   "metadata": {},
   "outputs": [
    {
     "ename": "SyntaxError",
     "evalue": "invalid character '💖' (U+1F496) (2249304393.py, line 1)",
     "output_type": "error",
     "traceback": [
      "\u001b[1;36m  Cell \u001b[1;32mIn[1], line 1\u001b[1;36m\u001b[0m\n\u001b[1;33m    💖💖💖💖💖💖💖\u001b[0m\n\u001b[1;37m    ^\u001b[0m\n\u001b[1;31mSyntaxError\u001b[0m\u001b[1;31m:\u001b[0m invalid character '💖' (U+1F496)\n"
     ]
    }
   ],
   "source": [
    "💖💖💖💖💖💖💖\n",
    "💖 I       💖\n",
    "💖   LOVE 💖\n",
    "💖     YOU 💖\n",
    "💖💖💖💖💖💖💖\n"
   ]
  },
  {
   "cell_type": "code",
   "execution_count": 2,
   "id": "c335a45e",
   "metadata": {},
   "outputs": [
    {
     "name": "stdout",
     "output_type": "stream",
     "text": [
      "\n",
      "💖💖💖💖💖💖💖💖💖\n",
      "💖 I Love You So Much 💖\n",
      "💖     Forever Yours     💖\n",
      "💖     ❤️ My Queen ❤️     💖\n",
      "💖💖💖💖💖💖💖💖💖\n",
      "\n",
      "I love you ❤️\n",
      "I love you 💖\n",
      "I love you 💕\n",
      "I love you 💘\n",
      "I love you 💞\n",
      "I love you 💗\n",
      "I love you 💓\n",
      "I love you 💝\n",
      "💍 Will you be mine forever? 💌\n"
     ]
    }
   ],
   "source": [
    "import time\n",
    "\n",
    "def type_print(text, delay=0.1):\n",
    "    for char in text:\n",
    "        print(char, end='', flush=True)\n",
    "        time.sleep(delay)\n",
    "    print()\n",
    "\n",
    "# Romantic message using emojis\n",
    "message = \"\"\"\n",
    "💖💖💖💖💖💖💖💖💖\n",
    "💖 I Love You So Much 💖\n",
    "💖     Forever Yours     💖\n",
    "💖     ❤️ My Queen ❤️     💖\n",
    "💖💖💖💖💖💖💖💖💖\n",
    "\"\"\"\n",
    "\n",
    "# Heart animation\n",
    "hearts = [\"❤️\", \"💖\", \"💕\", \"💘\", \"💞\", \"💗\", \"💓\", \"💝\"]\n",
    "\n",
    "def show_love():\n",
    "    for heart in hearts:\n",
    "        print(f\"I love you {heart}\")\n",
    "        time.sleep(0.5)\n",
    "\n",
    "# Run the romantic script\n",
    "type_print(message, 0.05)\n",
    "show_love()\n",
    "type_print(\"💍 Will you be mine forever? 💌\", 0.07)\n"
   ]
  },
  {
   "cell_type": "code",
   "execution_count": 4,
   "id": "98cd59fa",
   "metadata": {},
   "outputs": [
    {
     "name": "stdout",
     "output_type": "stream",
     "text": [
      "Nishu(Meri lugaii) love you\n",
      "\n",
      "💌💌💌 MESSAGE FOR YOU 💌💌💌\n",
      "\n",
      "My dearest love 💕,\n",
      "\n",
      "Every moment with you feels magical ✨.\n",
      "Your smile lights up my world 🌍,\n",
      "And your heart is where I want to live forever 🏡❤️.\n",
      "\n",
      "You are my sunshine ☀️, my moon 🌙, my everything 💫.\n",
      "\n",
      "\n",
      "   💖     💖\n",
      "     💖 💖\n",
      "       💖\n",
      "   💕     💕\n",
      "     💕 💕\n",
      "       💕\n",
      "   💘     💘\n",
      "     💘 💘\n",
      "       💘\n",
      "   💓     💓\n",
      "     💓 💓\n",
      "       💓\n",
      "   💖     💖\n",
      "     💖 💖\n",
      "       💖\n",
      "   💕     💕\n",
      "     💕 💕\n",
      "       💕\n",
      "   💘     💘\n",
      "     💘 💘\n",
      "       💘\n",
      "   💓     💓\n",
      "     💓 💓\n",
      "       💓\n",
      "💍 Will you make me the happiest person alive and be mine forever? 💖\n"
     ]
    }
   ],
   "source": [
    "import time\n",
    "import os\n",
    "\n",
    "# Function to simulate typing effect\n",
    "print(\"Nishu(Meri lugaii) love you\")\n",
    "def type_print(text, delay=0.07):\n",
    "    for char in text:\n",
    "        print(char, end='', flush=True)\n",
    "        time.sleep(delay)\n",
    "    print()\n",
    "\n",
    "# Clear screen for better effect\n",
    "def clear_screen():\n",
    "    os.system('cls' if os.name == 'nt' else 'clear')\n",
    "\n",
    "# Animated heart frames\n",
    "heart_frames = [\n",
    "    \"   💖     💖\\n     💖 💖\\n       💖\",\n",
    "    \"   💕     💕\\n     💕 💕\\n       💕\",\n",
    "    \"   💘     💘\\n     💘 💘\\n       💘\",\n",
    "    \"   💓     💓\\n     💓 💓\\n       💓\"\n",
    "]\n",
    "\n",
    "# Romantic message\n",
    "message = \"\"\"\n",
    "💌💌💌 MESSAGE FOR YOU 💌💌💌\n",
    "\n",
    "My dearest love 💕,\n",
    "\n",
    "Every moment with you feels magical ✨.\n",
    "Your smile lights up my world 🌍,\n",
    "And your heart is where I want to live forever 🏡❤️.\n",
    "\n",
    "You are my sunshine ☀️, my moon 🌙, my everything 💫.\n",
    "\n",
    "\"\"\"\n",
    "\n",
    "proposal = \"💍 Will you make me the happiest person alive and be mine forever? 💖\"\n",
    "\n",
    "# Show animated hearts\n",
    "def show_animated_hearts(repeat=2):\n",
    "    for _ in range(repeat):\n",
    "        for frame in heart_frames:\n",
    "            clear_screen()\n",
    "            print(frame)\n",
    "            time.sleep(0.3)\n",
    "\n",
    "# Run the love script\n",
    "clear_screen()\n",
    "type_print(message)\n",
    "time.sleep(1)\n",
    "show_animated_hearts()\n",
    "type_print(proposal)\n"
   ]
  },
  {
   "cell_type": "code",
   "execution_count": 5,
   "id": "cc91e254",
   "metadata": {},
   "outputs": [
    {
     "name": "stdout",
     "output_type": "stream",
     "text": [
      "\n",
      "💖 To My Love: Nishu 💖\n",
      "\n",
      "You make my world brighter 🌟,\n",
      "My heart happier ❤️,\n",
      "And my life complete 💫.\n",
      "\n",
      "I 💘 you, Nishu — forever & always! 💍\n",
      "\n"
     ]
    }
   ],
   "source": [
    "import time\n",
    "\n",
    "def type_print(text, delay=0.07):\n",
    "    for char in text:\n",
    "        print(char, end='', flush=True)\n",
    "        time.sleep(delay)\n",
    "    print()\n",
    "\n",
    "message = \"\"\"\n",
    "💖 To My Love: Nishu 💖\n",
    "\n",
    "You make my world brighter 🌟,\n",
    "My heart happier ❤️,\n",
    "And my life complete 💫.\n",
    "\n",
    "I 💘 you, Nishu — forever & always! 💍\n",
    "\"\"\"\n",
    "\n",
    "type_print(message)\n"
   ]
  },
  {
   "cell_type": "code",
   "execution_count": 7,
   "id": "19f9fb55",
   "metadata": {},
   "outputs": [
    {
     "name": "stdout",
     "output_type": "stream",
     "text": [
      "\n",
      "    💖💖💖💖💖💖💖\n",
      "    💖 I 💘 U 💖\n",
      "    💖 NISHU 💖\n",
      "    💖💖💖💖💖💖💖\n",
      "    \n",
      "\n",
      "    🌹 To: Nishu 🌹\n",
      "\n",
      "    I 💖 you more every day.\n",
      "    You're my 🌞 sunshine, my 🌙 moonlight,\n",
      "    My forever and always 💍\n",
      "\n",
      "    Yours truly,\n",
      "    💌 Your Love\n",
      "    \n",
      "\n",
      "      💕     💕\n",
      "     💕 💕 💕 💕\n",
      "    💕   💕 💕   💕\n",
      "     💕       💕\n",
      "       💕   💕\n",
      "         💕\n",
      "       NISHU 💖\n",
      "         I ❤️ YOU\n",
      "    \n",
      "\n",
      "    def love_message(name):\n",
      "        return f\"I ❤️ you forever, {name}! 💍💖\"\n",
      "\n",
      "    print(love_message(\"Nishu\"))\n",
      "    \n",
      "\n",
      "    🌟🌙 Dear Nishu 🌙🌟\n",
      "\n",
      "    You light up my world ✨\n",
      "    You fill my heart with joy 💞\n",
      "    And I can't stop loving you 💘\n",
      "\n",
      "    💍 Be mine forever?\n",
      "    \n",
      "💖 Thank you for watching this love show, Nishu! 💖\n"
     ]
    }
   ],
   "source": [
    "import time\n",
    "import os\n",
    "\n",
    "def clear():\n",
    "    os.system('cls' if os.name == 'nt' else 'clear')\n",
    "\n",
    "# Love message styles\n",
    "messages = [\n",
    "\n",
    "    # Style 1: Classic Box\n",
    "    \"\"\"\n",
    "    💖💖💖💖💖💖💖\n",
    "    💖 I 💘 U 💖\n",
    "    💖 NISHU 💖\n",
    "    💖💖💖💖💖💖💖\n",
    "    \"\"\",\n",
    "\n",
    "    # Style 2: Romantic Letter\n",
    "    \"\"\"\n",
    "    🌹 To: Nishu 🌹\n",
    "\n",
    "    I 💖 you more every day.\n",
    "    You're my 🌞 sunshine, my 🌙 moonlight,\n",
    "    My forever and always 💍\n",
    "\n",
    "    Yours truly,\n",
    "    💌 Your Love\n",
    "    \"\"\",\n",
    "\n",
    "    # Style 3: Heart Art\n",
    "    \"\"\"\n",
    "      💕     💕\n",
    "     💕 💕 💕 💕\n",
    "    💕   💕 💕   💕\n",
    "     💕       💕\n",
    "       💕   💕\n",
    "         💕\n",
    "       NISHU 💖\n",
    "         I ❤️ YOU\n",
    "    \"\"\",\n",
    "\n",
    "    # Style 4: Python Style\n",
    "    \"\"\"\n",
    "    def love_message(name):\n",
    "        return f\"I ❤️ you forever, {name}! 💍💖\"\n",
    "\n",
    "    print(love_message(\"Nishu\"))\n",
    "    \"\"\",\n",
    "\n",
    "    # Style 5: Starry Dream\n",
    "    \"\"\"\n",
    "    🌟🌙 Dear Nishu 🌙🌟\n",
    "\n",
    "    You light up my world ✨\n",
    "    You fill my heart with joy 💞\n",
    "    And I can't stop loving you 💘\n",
    "\n",
    "    💍 Be mine forever?\n",
    "    \"\"\"\n",
    "]\n",
    "\n",
    "# Show each message with animation\n",
    "for msg in messages:\n",
    "    clear()\n",
    "    print(msg)\n",
    "    time.sleep(3)  # Wait before next style\n",
    "\n",
    "clear()\n",
    "print(\"💖 Thank you for watching this love show, Nishu! 💖\")\n",
    "\n"
   ]
  },
  {
   "cell_type": "code",
   "execution_count": 1,
   "id": "2d4e2b64",
   "metadata": {},
   "outputs": [
    {
     "name": "stdout",
     "output_type": "stream",
     "text": [
      "Requirement already satisfied: moviepy in c:\\users\\kumaw\\appdata\\local\\programs\\python\\python313\\lib\\site-packages (2.1.2)\n",
      "Requirement already satisfied: decorator<6.0,>=4.0.2 in c:\\users\\kumaw\\appdata\\roaming\\python\\python313\\site-packages (from moviepy) (5.1.1)\n",
      "Requirement already satisfied: imageio<3.0,>=2.5 in c:\\users\\kumaw\\appdata\\local\\programs\\python\\python313\\lib\\site-packages (from moviepy) (2.37.0)\n",
      "Requirement already satisfied: imageio_ffmpeg>=0.2.0 in c:\\users\\kumaw\\appdata\\local\\programs\\python\\python313\\lib\\site-packages (from moviepy) (0.6.0)\n",
      "Requirement already satisfied: numpy>=1.25.0 in c:\\users\\kumaw\\appdata\\local\\programs\\python\\python313\\lib\\site-packages (from moviepy) (2.2.2)\n",
      "Requirement already satisfied: proglog<=1.0.0 in c:\\users\\kumaw\\appdata\\local\\programs\\python\\python313\\lib\\site-packages (from moviepy) (0.1.12)\n",
      "Requirement already satisfied: python-dotenv>=0.10 in c:\\users\\kumaw\\appdata\\local\\programs\\python\\python313\\lib\\site-packages (from moviepy) (1.0.1)\n",
      "Requirement already satisfied: pillow<11.0,>=9.2.0 in c:\\users\\kumaw\\appdata\\local\\programs\\python\\python313\\lib\\site-packages (from moviepy) (10.4.0)\n",
      "Requirement already satisfied: tqdm in c:\\users\\kumaw\\appdata\\local\\programs\\python\\python313\\lib\\site-packages (from proglog<=1.0.0->moviepy) (4.67.1)\n",
      "Requirement already satisfied: colorama in c:\\users\\kumaw\\appdata\\local\\programs\\python\\python313\\lib\\site-packages (from tqdm->proglog<=1.0.0->moviepy) (0.4.6)\n"
     ]
    }
   ],
   "source": [
    "!pip install moviepy\n"
   ]
  },
  {
   "cell_type": "code",
   "execution_count": 2,
   "id": "559f49d1",
   "metadata": {},
   "outputs": [
    {
     "ename": "ModuleNotFoundError",
     "evalue": "No module named 'moviepy.editor'",
     "output_type": "error",
     "traceback": [
      "\u001b[1;31m---------------------------------------------------------------------------\u001b[0m",
      "\u001b[1;31mModuleNotFoundError\u001b[0m                       Traceback (most recent call last)",
      "Cell \u001b[1;32mIn[2], line 1\u001b[0m\n\u001b[1;32m----> 1\u001b[0m \u001b[38;5;28;01mfrom\u001b[39;00m\u001b[38;5;250m \u001b[39m\u001b[38;5;21;01mmoviepy\u001b[39;00m\u001b[38;5;21;01m.\u001b[39;00m\u001b[38;5;21;01meditor\u001b[39;00m\u001b[38;5;250m \u001b[39m\u001b[38;5;28;01mimport\u001b[39;00m TextClip, concatenate_videoclips\n\u001b[0;32m      3\u001b[0m messages \u001b[38;5;241m=\u001b[39m [\n\u001b[0;32m      4\u001b[0m     \u001b[38;5;124m\"\u001b[39m\u001b[38;5;124m💖 I 💘 U 💖\u001b[39m\u001b[38;5;130;01m\\n\u001b[39;00m\u001b[38;5;124m💖 NISHU 💖\u001b[39m\u001b[38;5;124m\"\u001b[39m,\n\u001b[0;32m      5\u001b[0m     \u001b[38;5;124m\"\u001b[39m\u001b[38;5;124mYou\u001b[39m\u001b[38;5;124m'\u001b[39m\u001b[38;5;124mre my 🌞, my 🌙, my 💍\u001b[39m\u001b[38;5;124m\"\u001b[39m,\n\u001b[1;32m   (...)\u001b[0m\n\u001b[0;32m      8\u001b[0m     \u001b[38;5;124m\"\u001b[39m\u001b[38;5;124mYou light up my world ✨\u001b[39m\u001b[38;5;130;01m\\n\u001b[39;00m\u001b[38;5;124mBe mine forever? 💘\u001b[39m\u001b[38;5;124m\"\u001b[39m\n\u001b[0;32m      9\u001b[0m ]\n\u001b[0;32m     11\u001b[0m clips \u001b[38;5;241m=\u001b[39m []\n",
      "\u001b[1;31mModuleNotFoundError\u001b[0m: No module named 'moviepy.editor'"
     ]
    }
   ],
   "source": [
    "from moviepy.editor import TextClip, concatenate_videoclips\n",
    "\n",
    "messages = [\n",
    "    \"💖 I 💘 U 💖\\n💖 NISHU 💖\",\n",
    "    \"You're my 🌞, my 🌙, my 💍\",\n",
    "    \"💕     💕\\n 💕 NISHU 💖 💕\\n   I ❤️ YOU\",\n",
    "    \"I ❤️ you forever, Nishu! 💍💖\",\n",
    "    \"You light up my world ✨\\nBe mine forever? 💘\"\n",
    "]\n",
    "\n",
    "clips = []\n",
    "for msg in messages:\n",
    "    clip = TextClip(msg, fontsize=48, color='red', size=(600, 400), method='caption', font='DejaVu-Sans')\n",
    "    clip = clip.set_duration(2)\n",
    "    clips.append(clip)\n",
    "\n",
    "final_clip = concatenate_videoclips(clips, method=\"compose\")\n",
    "final_clip.write_gif(\"nishu_love.gif\", fps=10)\n"
   ]
  },
  {
   "cell_type": "code",
   "execution_count": null,
   "id": "faa3ed9a",
   "metadata": {},
   "outputs": [],
   "source": []
  }
 ],
 "metadata": {
  "kernelspec": {
   "display_name": "Python 3",
   "language": "python",
   "name": "python3"
  },
  "language_info": {
   "codemirror_mode": {
    "name": "ipython",
    "version": 3
   },
   "file_extension": ".py",
   "mimetype": "text/x-python",
   "name": "python",
   "nbconvert_exporter": "python",
   "pygments_lexer": "ipython3",
   "version": "3.13.3"
  }
 },
 "nbformat": 4,
 "nbformat_minor": 5
}
