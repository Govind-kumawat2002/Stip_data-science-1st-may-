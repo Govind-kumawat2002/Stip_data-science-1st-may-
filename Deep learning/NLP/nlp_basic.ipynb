{
 "cells": [
  {
   "cell_type": "markdown",
   "id": "f42453aa",
   "metadata": {},
   "source": [
    "#### Text Preprocessing "
   ]
  },
  {
   "cell_type": "code",
   "execution_count": null,
   "id": "90043fab",
   "metadata": {},
   "outputs": [
    {
     "name": "stdout",
     "output_type": "stream",
     "text": [
      "hello, wellcome to upflairs\n"
     ]
    }
   ],
   "source": [
    "###  case fold\n",
    "text = \"Hello, Wellcome to Upflairs\"\n",
    "text =text.casefold()\n",
    "print(text)"
   ]
  },
  {
   "cell_type": "code",
   "execution_count": 2,
   "id": "99ac9634",
   "metadata": {},
   "outputs": [
    {
     "data": {
      "text/plain": [
       "'hello, wellcome to upflairs'"
      ]
     },
     "execution_count": 2,
     "metadata": {},
     "output_type": "execute_result"
    }
   ],
   "source": [
    "text = \"Hello, Wellcome to Upflairs\"\n",
    "text.lower()"
   ]
  },
  {
   "cell_type": "code",
   "execution_count": 3,
   "id": "a5403995",
   "metadata": {},
   "outputs": [],
   "source": [
    "import re \n",
    "## a regular expression is a string that contains a sequence of characters that specifies a search pattern.\n",
    "# re.search(pattern, string, flags=0)\n",
    "\n",
    "# A RegEx, or Regular Expression, is a sequence of characters that forms a search pattern.\n",
    "\n",
    "# RegEx can be used to check if a string contains the specified search pattern.\n",
    "\n",
    "# RegEx Module\n",
    "# Python has a built-in package called re, which can be used to work with Regular Expressions.\n",
    "\n",
    "# Import the re module:"
   ]
  },
  {
   "cell_type": "code",
   "execution_count": 6,
   "id": "109cefd3",
   "metadata": {},
   "outputs": [
    {
     "data": {
      "text/plain": [
       "'hello  my name is  govind'"
      ]
     },
     "execution_count": 6,
     "metadata": {},
     "output_type": "execute_result"
    }
   ],
   "source": [
    "input = \"hello@ my name is #govind\"\n",
    "cleaned_text =re.sub(r\"[^a-zA-Z0-9]\", \" \", input)\n",
    "cleaned_text"
   ]
  },
  {
   "cell_type": "code",
   "execution_count": 7,
   "id": "6edc3773",
   "metadata": {},
   "outputs": [
    {
     "data": {
      "text/plain": [
       "'hello  my name is  govind9166780327'"
      ]
     },
     "execution_count": 7,
     "metadata": {},
     "output_type": "execute_result"
    }
   ],
   "source": [
    "input = \"hello@ my name is #govind9166780327\"\n",
    "cleaned_text =re.sub(r\"[^a-zA-Z0-9]\", \" \", input)\n",
    "cleaned_text"
   ]
  },
  {
   "cell_type": "code",
   "execution_count": 8,
   "id": "c67b00bc",
   "metadata": {},
   "outputs": [
    {
     "data": {
      "text/plain": [
       "'hello  my name is  govind          '"
      ]
     },
     "execution_count": 8,
     "metadata": {},
     "output_type": "execute_result"
    }
   ],
   "source": [
    "input = \"hello@ my name is #govind9166780327\"\n",
    "cleaned_text =re.sub(r\"[^a-zA-Z]\", \" \", input)\n",
    "cleaned_text"
   ]
  },
  {
   "cell_type": "markdown",
   "id": "3e19466d",
   "metadata": {},
   "source": [
    "### Handling contractions\n",
    "I`m = i am\n",
    "\n",
    "i`m going"
   ]
  },
  {
   "cell_type": "code",
   "execution_count": 11,
   "id": "af810217",
   "metadata": {},
   "outputs": [
    {
     "name": "stdout",
     "output_type": "stream",
     "text": [
      "i`m going\n"
     ]
    }
   ],
   "source": [
    "import contractions\n",
    "text =\"i`m going\"\n",
    "expanded_text=contractions.fix(text)\n",
    "print(expanded_text)"
   ]
  },
  {
   "cell_type": "code",
   "execution_count": 15,
   "id": "728e21e5",
   "metadata": {},
   "outputs": [
    {
     "name": "stdout",
     "output_type": "stream",
     "text": [
      "i am going\n"
     ]
    }
   ],
   "source": [
    "text =\"i'm going\"\n",
    "expanded_text=contractions.fix(text)\n",
    "print(expanded_text)"
   ]
  },
  {
   "cell_type": "code",
   "execution_count": null,
   "id": "021cf6b6",
   "metadata": {},
   "outputs": [],
   "source": [
    "###pip install nltk"
   ]
  },
  {
   "cell_type": "code",
   "execution_count": 16,
   "id": "90a98aa3",
   "metadata": {},
   "outputs": [],
   "source": [
    "import nltk"
   ]
  },
  {
   "cell_type": "code",
   "execution_count": 17,
   "id": "00a521bc",
   "metadata": {},
   "outputs": [
    {
     "name": "stderr",
     "output_type": "stream",
     "text": [
      "[nltk_data] Downloading package punkt to\n",
      "[nltk_data]     C:\\Users\\kumaw\\AppData\\Roaming\\nltk_data...\n",
      "[nltk_data]   Package punkt is already up-to-date!\n"
     ]
    },
    {
     "data": {
      "text/plain": [
       "True"
      ]
     },
     "execution_count": 17,
     "metadata": {},
     "output_type": "execute_result"
    }
   ],
   "source": [
    "nltk.download('punkt')"
   ]
  },
  {
   "cell_type": "code",
   "execution_count": 20,
   "id": "ddeda1c8",
   "metadata": {},
   "outputs": [
    {
     "name": "stdout",
     "output_type": "stream",
     "text": [
      "['hello', '@', 'my', 'name', 'is', '#', 'govind']\n",
      "hello my name is govind\n"
     ]
    }
   ],
   "source": [
    "input = \"hello@ my name is #govind\"\n",
    "tokens =nltk.word_tokenize(input)\n",
    "print(tokens)\n",
    "\n",
    "clean_text =[token for token in tokens if token.isalnum()]  \n",
    "cleaned_text=' '.join(clean_text)\n",
    "print(cleaned_text)"
   ]
  },
  {
   "cell_type": "code",
   "execution_count": null,
   "id": "fa00b37c",
   "metadata": {},
   "outputs": [
    {
     "data": {
      "text/plain": [
       "'Ram is /'"
      ]
     },
     "execution_count": 25,
     "metadata": {},
     "output_type": "execute_result"
    }
   ],
   "source": [
    "sentence = \"Ram is https://pypi.org/project/nltk/ shayam\" ## remove html tags and Ram is Shayam\n",
    "import re \n",
    "re.sub(r\"<.*?>\", \"\", sentence)"
   ]
  },
  {
   "cell_type": "code",
   "execution_count": 26,
   "id": "93eae5ee",
   "metadata": {},
   "outputs": [
    {
     "data": {
      "text/plain": [
       "'Ram is  shayam'"
      ]
     },
     "execution_count": 26,
     "metadata": {},
     "output_type": "execute_result"
    }
   ],
   "source": [
    "sentence = \"Ram is https://pypi.org/project/nltk/ shayam\" ## remove html tags and Ram is Shayam\n",
    "import re \n",
    "re.sub(r'https?://\\S+|www\\.\\S+', '', sentence)"
   ]
  },
  {
   "cell_type": "code",
   "execution_count": 27,
   "id": "930d4ba1",
   "metadata": {},
   "outputs": [],
   "source": [
    "chat_word_dict = {\n",
    "    \"u\": \"you\",\n",
    "    \"r\": \"are\",\n",
    "    \"b4\": \"before\",\n",
    "    \"gr8\": \"great\",\n",
    "    \"l8r\": \"later\",\n",
    "    \"idk\": \"I don’t know\",\n",
    "    \"btw\": \"by the way\",\n",
    "    \"imo\": \"in my opinion\",\n",
    "    \"ttyl\": \"talk to you later\",\n",
    "    \"brb\": \"be right back\",\n",
    "    \"wanna\": \"want to\",\n",
    "    \"gonna\": \"going to\",\n",
    "    \"lemme\": \"let me\",\n",
    "    \"dunno\": \"don’t know\",\n",
    "    \"thx\": \"thanks\",\n",
    "    \"pls\": \"please\",\n",
    "    \"ppl\": \"people\",\n",
    "    \"smh\": \"shaking my head\",\n",
    "    \"tbh\": \"to be honest\",\n",
    "    \"omg\": \"oh my god\",\n",
    "    \"lol\": \"laugh out loud\",\n",
    "    \"rofl\": \"rolling on the floor laughing\",\n",
    "    \"afk\": \"away from keyboard\",\n",
    "    \"np\": \"no problem\",\n",
    "    \"gtg\": \"got to go\",\n",
    "    \"jk\": \"just kidding\",\n",
    "    \"hbu\": \"how about you\",\n",
    "    \"ily\": \"I love you\",\n",
    "    \"ttys\": \"talk to you soon\"\n",
    "}"
   ]
  },
  {
   "cell_type": "code",
   "execution_count": null,
   "id": "dec9f67b",
   "metadata": {},
   "outputs": [],
   "source": [
    "chat_text = \"omg idk what u r talking about lol\"\n",
    "def normalize_text(chat_text):\n",
    "    words =chat_text.split()\n",
    "    normalized_words=[chat_word_dict.get(word.lower(), word) for word in words]\n",
    "    return \" \".join(normalized_words)\n",
    "\n"
   ]
  },
  {
   "cell_type": "code",
   "execution_count": 30,
   "id": "a564d41d",
   "metadata": {},
   "outputs": [],
   "source": [
    "normalized_text=normalize_text(chat_text = \"omg idk what u r talking about lol\")"
   ]
  },
  {
   "cell_type": "code",
   "execution_count": 31,
   "id": "67cec2c0",
   "metadata": {},
   "outputs": [
    {
     "data": {
      "text/plain": [
       "'oh my god I don’t know what you are talking about laugh out loud'"
      ]
     },
     "execution_count": 31,
     "metadata": {},
     "output_type": "execute_result"
    }
   ],
   "source": [
    "normalized_text"
   ]
  },
  {
   "cell_type": "code",
   "execution_count": 34,
   "id": "d9164b79",
   "metadata": {},
   "outputs": [
    {
     "name": "stdout",
     "output_type": "stream",
     "text": [
      "ny same is going\n"
     ]
    }
   ],
   "source": [
    "from textblob import TextBlob\n",
    "text = \"ny mame is govind\"\n",
    "spelling_correct=TextBlob(text).correct()\n",
    "\n",
    "print(spelling_correct) "
   ]
  },
  {
   "cell_type": "code",
   "execution_count": null,
   "id": "2fa62a41",
   "metadata": {},
   "outputs": [],
   "source": [
    "# Speech to text(stt)\n",
    "# pip install SpeechRecognition\n",
    "# pip install pyaudio"
   ]
  },
  {
   "cell_type": "code",
   "execution_count": 36,
   "id": "ee556f52",
   "metadata": {},
   "outputs": [
    {
     "name": "stdout",
     "output_type": "stream",
     "text": [
      "speak now\n",
      "you said: hello my name is Govind Kumawat\n"
     ]
    }
   ],
   "source": [
    "import speech_recognition as sr\n",
    "recognizer=sr.Recognizer()\n",
    "with sr.Microphone() as source:\n",
    "    print(\"speak now\")\n",
    "    audio =recognizer.listen(source)\n",
    "try:\n",
    "    text = recognizer.recognize_google(audio)\n",
    "    print(\"you said:\",text)\n",
    "except:\n",
    "    print(\"Sorry could not recognize your voice\")"
   ]
  },
  {
   "cell_type": "code",
   "execution_count": 38,
   "id": "4e6afac8",
   "metadata": {},
   "outputs": [
    {
     "name": "stdout",
     "output_type": "stream",
     "text": [
      "Collecting gtts\n",
      "  Downloading gTTS-2.5.4-py3-none-any.whl.metadata (4.1 kB)\n",
      "Requirement already satisfied: requests<3,>=2.27 in c:\\users\\kumaw\\appdata\\local\\programs\\python\\python313\\lib\\site-packages (from gtts) (2.32.3)\n",
      "Requirement already satisfied: click<8.2,>=7.1 in c:\\users\\kumaw\\appdata\\local\\programs\\python\\python313\\lib\\site-packages (from gtts) (8.1.8)\n",
      "Requirement already satisfied: colorama in c:\\users\\kumaw\\appdata\\local\\programs\\python\\python313\\lib\\site-packages (from click<8.2,>=7.1->gtts) (0.4.6)\n",
      "Requirement already satisfied: charset-normalizer<4,>=2 in c:\\users\\kumaw\\appdata\\local\\programs\\python\\python313\\lib\\site-packages (from requests<3,>=2.27->gtts) (3.4.1)\n",
      "Requirement already satisfied: idna<4,>=2.5 in c:\\users\\kumaw\\appdata\\local\\programs\\python\\python313\\lib\\site-packages (from requests<3,>=2.27->gtts) (3.10)\n",
      "Requirement already satisfied: urllib3<3,>=1.21.1 in c:\\users\\kumaw\\appdata\\local\\programs\\python\\python313\\lib\\site-packages (from requests<3,>=2.27->gtts) (2.3.0)\n",
      "Requirement already satisfied: certifi>=2017.4.17 in c:\\users\\kumaw\\appdata\\local\\programs\\python\\python313\\lib\\site-packages (from requests<3,>=2.27->gtts) (2025.1.31)\n",
      "Downloading gTTS-2.5.4-py3-none-any.whl (29 kB)\n",
      "Installing collected packages: gtts\n",
      "Successfully installed gtts-2.5.4\n"
     ]
    }
   ],
   "source": [
    "!pip install gtts"
   ]
  },
  {
   "cell_type": "code",
   "execution_count": 39,
   "id": "2929d1e0",
   "metadata": {},
   "outputs": [
    {
     "ename": "ModuleNotFoundError",
     "evalue": "No module named 'gtts'",
     "output_type": "error",
     "traceback": [
      "\u001b[1;31m---------------------------------------------------------------------------\u001b[0m",
      "\u001b[1;31mModuleNotFoundError\u001b[0m                       Traceback (most recent call last)",
      "Cell \u001b[1;32mIn[39], line 3\u001b[0m\n\u001b[0;32m      1\u001b[0m \u001b[38;5;66;03m# Text to speech(tts)\u001b[39;00m\n\u001b[0;32m      2\u001b[0m \u001b[38;5;66;03m# pip install gtts\u001b[39;00m\n\u001b[1;32m----> 3\u001b[0m \u001b[38;5;28;01mfrom\u001b[39;00m \u001b[38;5;21;01mgtts\u001b[39;00m \u001b[38;5;28;01mimport\u001b[39;00m gTTS\n\u001b[0;32m      4\u001b[0m \u001b[38;5;28;01mimport\u001b[39;00m \u001b[38;5;21;01mos\u001b[39;00m\n\u001b[0;32m      5\u001b[0m text  \u001b[38;5;241m=\u001b[39m \u001b[38;5;124m\"\u001b[39m\u001b[38;5;124mHello welcome to upflairs\u001b[39m\u001b[38;5;124m\"\u001b[39m\n",
      "\u001b[1;31mModuleNotFoundError\u001b[0m: No module named 'gtts'"
     ]
    }
   ],
   "source": [
    "# Text to speech(tts)\n",
    "# pip install gtts\n",
    "from gtts import gTTS\n",
    "import os\n",
    "text  = \"Hello welcome to upflairs\"\n",
    "tts=gTTS(text = text , lang=\"en\")\n",
    "tts.save(\"welcome.mp3\")\n",
    "os.system(\"welcome.mp3\")\n",
    "\n"
   ]
  },
  {
   "cell_type": "code",
   "execution_count": null,
   "id": "30c7556d",
   "metadata": {},
   "outputs": [],
   "source": []
  }
 ],
 "metadata": {
  "kernelspec": {
   "display_name": "Python 3",
   "language": "python",
   "name": "python3"
  },
  "language_info": {
   "codemirror_mode": {
    "name": "ipython",
    "version": 3
   },
   "file_extension": ".py",
   "mimetype": "text/x-python",
   "name": "python",
   "nbconvert_exporter": "python",
   "pygments_lexer": "ipython3",
   "version": "3.11.5"
  }
 },
 "nbformat": 4,
 "nbformat_minor": 5
}
