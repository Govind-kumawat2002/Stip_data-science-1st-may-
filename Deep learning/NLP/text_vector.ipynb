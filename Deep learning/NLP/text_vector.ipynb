{
 "cells": [
  {
   "cell_type": "markdown",
   "id": "ea8f4aa9",
   "metadata": {},
   "source": [
    "##### Bow >>>>>>>>>>>>>>>>>>>> Bag of word"
   ]
  },
  {
   "cell_type": "code",
   "execution_count": 1,
   "id": "ef507540",
   "metadata": {},
   "outputs": [],
   "source": [
    "import pandas as pd \n",
    "import numpy as np\n"
   ]
  },
  {
   "cell_type": "code",
   "execution_count": 2,
   "id": "6e53f8a0",
   "metadata": {},
   "outputs": [],
   "source": [
    "text = {\"text\":[\"People watch Aiyug\",\"Aiyug watch Aiyug\",\"People write comment \",\"Aiyug write comment\"],\"Output\":[1,1,0,0] }\n"
   ]
  },
  {
   "cell_type": "code",
   "execution_count": 5,
   "id": "a10998e0",
   "metadata": {},
   "outputs": [],
   "source": [
    "text =pd.DataFrame(text)\n"
   ]
  },
  {
   "cell_type": "code",
   "execution_count": 6,
   "id": "601c2c9a",
   "metadata": {},
   "outputs": [
    {
     "data": {
      "text/html": [
       "<div>\n",
       "<style scoped>\n",
       "    .dataframe tbody tr th:only-of-type {\n",
       "        vertical-align: middle;\n",
       "    }\n",
       "\n",
       "    .dataframe tbody tr th {\n",
       "        vertical-align: top;\n",
       "    }\n",
       "\n",
       "    .dataframe thead th {\n",
       "        text-align: right;\n",
       "    }\n",
       "</style>\n",
       "<table border=\"1\" class=\"dataframe\">\n",
       "  <thead>\n",
       "    <tr style=\"text-align: right;\">\n",
       "      <th></th>\n",
       "      <th>text</th>\n",
       "      <th>Output</th>\n",
       "    </tr>\n",
       "  </thead>\n",
       "  <tbody>\n",
       "    <tr>\n",
       "      <th>0</th>\n",
       "      <td>People watch Aiyug</td>\n",
       "      <td>1</td>\n",
       "    </tr>\n",
       "    <tr>\n",
       "      <th>1</th>\n",
       "      <td>Aiyug watch Aiyug</td>\n",
       "      <td>1</td>\n",
       "    </tr>\n",
       "    <tr>\n",
       "      <th>2</th>\n",
       "      <td>People write comment</td>\n",
       "      <td>0</td>\n",
       "    </tr>\n",
       "    <tr>\n",
       "      <th>3</th>\n",
       "      <td>Aiyug write comment</td>\n",
       "      <td>0</td>\n",
       "    </tr>\n",
       "  </tbody>\n",
       "</table>\n",
       "</div>"
      ],
      "text/plain": [
       "                    text  Output\n",
       "0     People watch Aiyug       1\n",
       "1      Aiyug watch Aiyug       1\n",
       "2  People write comment        0\n",
       "3    Aiyug write comment       0"
      ]
     },
     "execution_count": 6,
     "metadata": {},
     "output_type": "execute_result"
    }
   ],
   "source": [
    "text "
   ]
  },
  {
   "cell_type": "code",
   "execution_count": 7,
   "id": "3ddf8f99",
   "metadata": {},
   "outputs": [],
   "source": [
    "from sklearn.feature_extraction.text import CountVectorizer"
   ]
  },
  {
   "cell_type": "code",
   "execution_count": 8,
   "id": "e07ac48f",
   "metadata": {},
   "outputs": [],
   "source": [
    "cv =CountVectorizer(lowercase=True, stop_words='english', binary=True)"
   ]
  },
  {
   "cell_type": "code",
   "execution_count": 9,
   "id": "95afbd0f",
   "metadata": {},
   "outputs": [],
   "source": [
    "bow =cv.fit_transform(text['text'])"
   ]
  },
  {
   "cell_type": "code",
   "execution_count": 10,
   "id": "2866b11c",
   "metadata": {},
   "outputs": [
    {
     "data": {
      "text/plain": [
       "{'people': 2, 'watch': 3, 'aiyug': 0, 'write': 4, 'comment': 1}"
      ]
     },
     "execution_count": 10,
     "metadata": {},
     "output_type": "execute_result"
    }
   ],
   "source": [
    "cv.vocabulary_"
   ]
  },
  {
   "cell_type": "code",
   "execution_count": 11,
   "id": "1f2dc069",
   "metadata": {},
   "outputs": [
    {
     "name": "stdout",
     "output_type": "stream",
     "text": [
      "[[1 0 1 1 0]]\n",
      "[[1 0 0 1 0]]\n",
      "[[0 1 1 0 1]]\n",
      "[[1 1 0 0 1]]\n"
     ]
    }
   ],
   "source": [
    "print(bow[0].toarray())\n",
    "print(bow[1].toarray())\n",
    "print(bow[2].toarray())\n",
    "print(bow[3].toarray())"
   ]
  },
  {
   "cell_type": "code",
   "execution_count": 14,
   "id": "8e87a222",
   "metadata": {},
   "outputs": [
    {
     "data": {
      "text/plain": [
       "array([[0, 1, 0, 1, 0]], dtype=int64)"
      ]
     },
     "execution_count": 14,
     "metadata": {},
     "output_type": "execute_result"
    }
   ],
   "source": [
    "cv.transform([\"hello comment  my name watch is govind \"]).toarray()"
   ]
  },
  {
   "cell_type": "code",
   "execution_count": 16,
   "id": "7825d131",
   "metadata": {},
   "outputs": [],
   "source": [
    "# !pip install scikit-learn"
   ]
  },
  {
   "cell_type": "markdown",
   "id": "a7ba905d",
   "metadata": {},
   "source": [
    "##### N grams "
   ]
  },
  {
   "cell_type": "code",
   "execution_count": 19,
   "id": "f21d3d95",
   "metadata": {},
   "outputs": [
    {
     "name": "stdout",
     "output_type": "stream",
     "text": [
      "bigrams:- [('I', 'love', 'natural'), ('love', 'natural', 'language'), ('natural', 'language', 'processing')]\n"
     ]
    }
   ],
   "source": [
    "\n",
    "from nltk.util import ngrams\n",
    "from nltk.tokenize import word_tokenize\n",
    "\n",
    "text = \"I love natural language processing \"\n",
    "tokens =word_tokenize(text)\n",
    "n = 3 \n",
    "\n",
    "bigrams =list(ngrams(tokens, n)) \n",
    "print(\"bigrams:-\",bigrams)  \n",
    "\n"
   ]
  },
  {
   "cell_type": "markdown",
   "id": "11bedc47",
   "metadata": {},
   "source": [
    "### TF-IDF"
   ]
  },
  {
   "cell_type": "code",
   "execution_count": 26,
   "id": "265dc47a",
   "metadata": {},
   "outputs": [
    {
     "name": "stdout",
     "output_type": "stream",
     "text": [
      "document:- 1\n",
      "language: 0.5465\n",
      "love: 0.3227\n",
      "natural: 0.5465\n",
      "processing: 0.5465\n",
      "document:- 2\n",
      "learning: 0.5478\n",
      "love: 0.4254\n",
      "machine: 0.7203\n",
      "document:- 3\n",
      "deep: 0.7203\n",
      "learning: 0.5478\n",
      "love: 0.4254\n"
     ]
    }
   ],
   "source": [
    "from sklearn.feature_extraction.text import TfidfVectorizer\n",
    "text = [\"i love natural language processing\",\"i love machine learning\",\"i love deep learning\"]\n",
    "vectorizer=TfidfVectorizer()\n",
    "tfidf_matrix=vectorizer.fit_transform(text)\n",
    "# print(tfidf_matrix.toarray())\n",
    "feature_names=vectorizer.get_feature_names_out()\n",
    "\n",
    "for doc_index, doc in enumerate(tfidf_matrix.toarray()):\n",
    "    print(\"document:-\",doc_index+1)\n",
    "    for word_index, score in enumerate(doc):\n",
    "        if score> 0:\n",
    "            print(f\"{feature_names[word_index]}: {score:.4f}\")\n",
    "\n"
   ]
  },
  {
   "cell_type": "code",
   "execution_count": 25,
   "id": "a717995b",
   "metadata": {},
   "outputs": [
    {
     "data": {
      "text/plain": [
       "array(['deep', 'language', 'learning', 'love', 'machine', 'natural',\n",
       "       'processing'], dtype=object)"
      ]
     },
     "execution_count": 25,
     "metadata": {},
     "output_type": "execute_result"
    }
   ],
   "source": [
    "vectorizer.get_feature_names_out()"
   ]
  },
  {
   "cell_type": "markdown",
   "id": "bb9a5214",
   "metadata": {},
   "source": [
    "### Part of speech tagging "
   ]
  },
  {
   "cell_type": "code",
   "execution_count": 27,
   "id": "6e6fb0bf",
   "metadata": {},
   "outputs": [],
   "source": [
    "import spacy"
   ]
  },
  {
   "cell_type": "code",
   "execution_count": 28,
   "id": "c0e9bacf",
   "metadata": {},
   "outputs": [],
   "source": [
    "pos =spacy.load('en_core_web_sm')"
   ]
  },
  {
   "cell_type": "code",
   "execution_count": 29,
   "id": "eb5e948d",
   "metadata": {},
   "outputs": [],
   "source": [
    "doc=pos(\"i love natural language processing\")"
   ]
  },
  {
   "cell_type": "code",
   "execution_count": null,
   "id": "8021ac59",
   "metadata": {},
   "outputs": [
    {
     "data": {
      "text/plain": [
       "love"
      ]
     },
     "execution_count": 31,
     "metadata": {},
     "output_type": "execute_result"
    }
   ],
   "source": []
  },
  {
   "cell_type": "code",
   "execution_count": 32,
   "id": "e2c3e1c2",
   "metadata": {},
   "outputs": [
    {
     "data": {
      "text/plain": [
       "'i love natural language processing'"
      ]
     },
     "execution_count": 32,
     "metadata": {},
     "output_type": "execute_result"
    }
   ],
   "source": [
    "doc.text"
   ]
  },
  {
   "cell_type": "code",
   "execution_count": 37,
   "id": "b91581f6",
   "metadata": {},
   "outputs": [
    {
     "data": {
      "text/plain": [
       "'NOUN'"
      ]
     },
     "execution_count": 37,
     "metadata": {},
     "output_type": "execute_result"
    }
   ],
   "source": [
    "doc[3].pos_"
   ]
  },
  {
   "cell_type": "code",
   "execution_count": 38,
   "id": "348dadf5",
   "metadata": {},
   "outputs": [
    {
     "name": "stdout",
     "output_type": "stream",
     "text": [
      "love\n"
     ]
    }
   ],
   "source": [
    "from nltk.stem import PorterStemmer\n",
    "st =PorterStemmer()\n",
    "print(st.stem(\"loving\"))"
   ]
  },
  {
   "cell_type": "code",
   "execution_count": 39,
   "id": "a9dbdc7a",
   "metadata": {},
   "outputs": [
    {
     "name": "stdout",
     "output_type": "stream",
     "text": [
      "love\n"
     ]
    },
    {
     "data": {
      "text/plain": [
       "'love'"
      ]
     },
     "execution_count": 39,
     "metadata": {},
     "output_type": "execute_result"
    }
   ],
   "source": [
    "print(st.stem(\"loving\"))\n",
    "st.stem(\"loving\")\n"
   ]
  },
  {
   "cell_type": "code",
   "execution_count": null,
   "id": "982c2a0d",
   "metadata": {},
   "outputs": [],
   "source": []
  }
 ],
 "metadata": {
  "kernelspec": {
   "display_name": "Python 3",
   "language": "python",
   "name": "python3"
  },
  "language_info": {
   "codemirror_mode": {
    "name": "ipython",
    "version": 3
   },
   "file_extension": ".py",
   "mimetype": "text/x-python",
   "name": "python",
   "nbconvert_exporter": "python",
   "pygments_lexer": "ipython3",
   "version": "3.11.5"
  }
 },
 "nbformat": 4,
 "nbformat_minor": 5
}
