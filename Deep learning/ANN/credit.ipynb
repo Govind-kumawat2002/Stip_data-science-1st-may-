{
 "cells": [
  {
   "cell_type": "code",
   "execution_count": null,
   "id": "22c74682",
   "metadata": {},
   "outputs": [],
   "source": [
    "!pip install tensorflow"
   ]
  },
  {
   "cell_type": "code",
   "execution_count": null,
   "id": "12724f4a",
   "metadata": {},
   "outputs": [],
   "source": [
    "import tensorflow as tf"
   ]
  },
  {
   "cell_type": "code",
   "execution_count": null,
   "id": "ac5d9fdf",
   "metadata": {},
   "outputs": [],
   "source": [
    "from tensorflow.keras.models import Sequential\n",
    "from tensorflow.keras.layers import Dense,Dropout\n",
    "\n"
   ]
  },
  {
   "cell_type": "code",
   "execution_count": null,
   "id": "8425205c",
   "metadata": {},
   "outputs": [],
   "source": [
    "import pandas as pd\n",
    "import numpy as np\n"
   ]
  },
  {
   "cell_type": "code",
   "execution_count": null,
   "id": "81fa665f",
   "metadata": {},
   "outputs": [],
   "source": [
    "data = pd.read_csv(\"Credit.csv\")"
   ]
  },
  {
   "cell_type": "code",
   "execution_count": null,
   "id": "f16a50c1",
   "metadata": {},
   "outputs": [],
   "source": [
    "data "
   ]
  },
  {
   "cell_type": "code",
   "execution_count": null,
   "id": "15751ae4",
   "metadata": {},
   "outputs": [],
   "source": [
    "data['job'].unique()    "
   ]
  },
  {
   "cell_type": "code",
   "execution_count": null,
   "id": "c3867d36",
   "metadata": {},
   "outputs": [],
   "source": [
    "job = {'admin.':0,'blue-collar':1,'entrepreneur':2,'housemaid':3,'management':4,'retired':5,'self-employed':6,'services':7,'student':8,'technician':9,'unemployed':10,'unknown':11}\n",
    "data['job'] = data['job'].map(job)\n",
    "data['marital'] = data['marital'].map({'married':0,'single':1,'divorced':2})\n",
    "data['education'] = data['education'].map({'primary':0,'secondary':1,'tertiary':2})\n",
    "data['housing'] = data['housing'].map({'yes':0,'no':1})\n",
    "data['approval'] = data['approval'].map({'yes':0,'no':1})"
   ]
  },
  {
   "cell_type": "code",
   "execution_count": null,
   "id": "f4af8536",
   "metadata": {},
   "outputs": [],
   "source": [
    "data.drop_duplicates(inplace=True)"
   ]
  },
  {
   "cell_type": "code",
   "execution_count": null,
   "id": "fb449e23",
   "metadata": {},
   "outputs": [],
   "source": [
    "data.dropna(inplace=True)"
   ]
  },
  {
   "cell_type": "code",
   "execution_count": null,
   "id": "03ae7e63",
   "metadata": {},
   "outputs": [],
   "source": [
    "data.isnull().sum()"
   ]
  },
  {
   "cell_type": "code",
   "execution_count": null,
   "id": "f6ef6677",
   "metadata": {},
   "outputs": [],
   "source": [
    "x =data.drop('approval',axis=1)\n",
    "y = data['approval']"
   ]
  },
  {
   "cell_type": "code",
   "execution_count": null,
   "id": "7d64cc9d",
   "metadata": {},
   "outputs": [],
   "source": [
    "from sklearn.model_selection import train_test_split\n",
    "x_train,x_test,y_train,y_test=train_test_split(x,y,test_size=0.2)"
   ]
  },
  {
   "cell_type": "code",
   "execution_count": null,
   "id": "ba096452",
   "metadata": {},
   "outputs": [],
   "source": [
    "x_train.shape,x_test.shape,y_train.shape,y_test.shape"
   ]
  },
  {
   "cell_type": "code",
   "execution_count": null,
   "id": "05e52fa6",
   "metadata": {},
   "outputs": [],
   "source": [
    "from tensorflow.keras.models import Sequential\n",
    "from tensorflow.keras.layers import Dense,Dropout"
   ]
  },
  {
   "cell_type": "code",
   "execution_count": null,
   "id": "21f57a3a",
   "metadata": {},
   "outputs": [],
   "source": [
    "input_dim=8"
   ]
  },
  {
   "cell_type": "code",
   "execution_count": null,
   "id": "544e4972",
   "metadata": {},
   "outputs": [],
   "source": [
    "model =Sequential()\n",
    "# input layer\n",
    "model.add(Dense(units=128,activation='relu',input_dim=input_dim))\n",
    "# Dropout layer \n",
    "model.add(Dropout(0.2))\n",
    "# Hidden layer\n",
    "\n",
    "model.add(Dense(units = 64,activation='relu'))\n",
    "model.add(Dense(units = 32,activation='relu'))\n",
    "model.add(Dense(units = 16,activation='relu'))\n",
    "model.add(Dense(units = 8,activation='relu'))\n",
    "# output layer\n",
    "\n",
    "\n",
    "model.add(Dense(units=1,activation='sigmoid'))\n",
    "\n",
    "\n",
    "model.compile(loss='binary_crossentropy',optimizer='adam',metrics=['accuracy','mae','mse'])"
   ]
  },
  {
   "cell_type": "code",
   "execution_count": null,
   "id": "d375cf47",
   "metadata": {},
   "outputs": [],
   "source": [
    "model.fit(x_train,y_train,epochs=10,batch_size=32)"
   ]
  },
  {
   "cell_type": "code",
   "execution_count": null,
   "id": "7d6cf5d3",
   "metadata": {},
   "outputs": [],
   "source": [
    "pred = model.predict(x_test)"
   ]
  },
  {
   "cell_type": "code",
   "execution_count": null,
   "id": "32bf9772",
   "metadata": {},
   "outputs": [],
   "source": [
    "# pred =pd.DataFrame(pred)"
   ]
  },
  {
   "cell_type": "code",
   "execution_count": null,
   "id": "f93430ad",
   "metadata": {},
   "outputs": [],
   "source": [
    "import numpy"
   ]
  },
  {
   "cell_type": "code",
   "execution_count": null,
   "id": "d198d773",
   "metadata": {},
   "outputs": [],
   "source": [
    "pred =numpy.ravel(pred)"
   ]
  },
  {
   "cell_type": "code",
   "execution_count": null,
   "id": "900518fe",
   "metadata": {},
   "outputs": [],
   "source": [
    "pred"
   ]
  },
  {
   "cell_type": "code",
   "execution_count": null,
   "id": "8e13cb90",
   "metadata": {},
   "outputs": [],
   "source": [
    "y_test"
   ]
  },
  {
   "cell_type": "code",
   "execution_count": null,
   "id": "3805e04e",
   "metadata": {},
   "outputs": [],
   "source": [
    "output =pd.DataFrame({'actual':y_test,'prediction':(pred>=0.5).astype(int)})"
   ]
  },
  {
   "cell_type": "code",
   "execution_count": null,
   "id": "8f974db8",
   "metadata": {},
   "outputs": [],
   "source": [
    "output['prediction'].unique()"
   ]
  },
  {
   "cell_type": "code",
   "execution_count": null,
   "id": "574cab8e",
   "metadata": {},
   "outputs": [],
   "source": [
    "output['actual'].unique()"
   ]
  },
  {
   "cell_type": "code",
   "execution_count": null,
   "id": "4a5180a5",
   "metadata": {},
   "outputs": [],
   "source": [
    "# balancing "
   ]
  }
 ],
 "metadata": {
  "kernelspec": {
   "display_name": "Python 3",
   "language": "python",
   "name": "python3"
  },
  "language_info": {
   "codemirror_mode": {
    "name": "ipython",
    "version": 3
   },
   "file_extension": ".py",
   "mimetype": "text/x-python",
   "name": "python",
   "nbconvert_exporter": "python",
   "pygments_lexer": "ipython3",
   "version": "3.11.5"
  }
 },
 "nbformat": 4,
 "nbformat_minor": 5
}
